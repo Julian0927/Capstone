{
  "nbformat": 4,
  "nbformat_minor": 0,
  "metadata": {
    "colab": {
      "provenance": []
    },
    "kernelspec": {
      "name": "python3",
      "display_name": "Python 3"
    },
    "language_info": {
      "name": "python"
    }
  },
  "cells": [
    {
      "cell_type": "markdown",
      "source": [
        "<p style=\"text-align:center\">\n",
        "    <a href=\"https://skills.network/?utm_medium=Exinfluencer&utm_source=Exinfluencer&utm_content=000026UJ&utm_term=10006555&utm_id=NA-SkillsNetwork-Channel-SkillsNetworkCoursesIBMDS0321ENSkillsNetwork26802033-2022-01-01\" target=\"_blank\">\n",
        "    <img src=\"https://cf-courses-data.s3.us.cloud-object-storage.appdomain.cloud/assets/logos/SN_web_lightmode.png\" width=\"200\" alt=\"Skills Network Logo\"  />\n",
        "    </a>\n",
        "</p>\n",
        "\n",
        "\n",
        "# ***Space X Falcon 9 First Stage Landing Prediction***\n",
        "\n",
        "In this lab, we will perform some Exploratory Data Analysis (EDA) to find some patterns in the data and determine what would be the label for training supervised models.\n",
        "\n",
        "In the data set, there are several different cases where the booster (refuerzo) did not land successfully. Sometimes a landing was attempted but failed due (debido) to an accident.\n",
        "\n",
        "$ \\ $\n",
        "\n",
        "------\n",
        "\n",
        "## ***Example (booster outcomes).***\n",
        "\n",
        "* $\\color{yellow}{\\text{True Ocean}}$ means the mission outcome was successfully landed to a specific region of the ocean while. \n",
        "\n",
        "* $\\color{yellow}{\\text{False Ocean}}$ means the mission outcome was unsuccessfully landed to a specific region of the ocean. \n",
        "\n",
        "* $\\color{orange}{\\text{True RTLS}}$ means the mission outcome was successfully landed to a ground pad.\n",
        "\n",
        "* $\\color{orange}{\\text{False RTLS}}$ means the mission outcome was unsuccessfully landed to a ground pad.\n",
        "\n",
        "* $\\color{aquamarine}{\\text{True ASDS}}$ means the mission outcome was successfully landed on a drone ship. \n",
        "\n",
        "* $\\color{aquamarine}{\\text{False ASDS}}$ means the mission outcome was unsuccessfully landed on a drone ship.\n",
        "\n",
        "In this lab we will mainly convert those outcomes into Training Labels with 1 means the booster successfully landed 0 means it was unsuccessful."
      ],
      "metadata": {
        "id": "ndLwW1CFjfYF"
      }
    },
    {
      "cell_type": "markdown",
      "source": [
        "$ \\ $\n",
        "\n",
        "----\n",
        "\n",
        "### ***Falcon 9 first stage will land successfully.***\n",
        "\n",
        "![](https://cf-courses-data.s3.us.cloud-object-storage.appdomain.cloud/IBMDeveloperSkillsNetwork-DS0701EN-SkillsNetwork/api/Images/landing\\_1.gif)"
      ],
      "metadata": {
        "id": "MoiqQlZnymap"
      }
    },
    {
      "cell_type": "markdown",
      "source": [
        "$ \\ $\n",
        "\n",
        "----\n",
        "\n",
        "### ***Several examples of an unsuccessful landing are shown here:***\n",
        "\n",
        "![](https://cf-courses-data.s3.us.cloud-object-storage.appdomain.cloud/IBMDeveloperSkillsNetwork-DS0701EN-SkillsNetwork/api/Images/crash.gif)"
      ],
      "metadata": {
        "id": "MHU54dwTysAQ"
      }
    },
    {
      "cell_type": "markdown",
      "source": [
        "$ \\ $\n",
        "\n",
        "-----\n",
        "\n",
        "## ***Objectives.***\n",
        "\n",
        "Perform exploratory Data Analysis and determine Training Labels:\n",
        "\n",
        "*   Exploratory Data Analysis.\n",
        "\n",
        "*   Determine Training Labels.\n"
      ],
      "metadata": {
        "id": "04YZsH-sy3Td"
      }
    },
    {
      "cell_type": "markdown",
      "source": [
        "$ \\ $\n",
        "\n",
        "-----\n",
        "\n",
        "## ***Import Libraries and Define Auxiliary Functions.***\n",
        "\n",
        "We will import the following libraries."
      ],
      "metadata": {
        "id": "a7TIQI9tzafr"
      }
    },
    {
      "cell_type": "code",
      "execution_count": 1,
      "metadata": {
        "id": "2lWVx-SAejs0"
      },
      "outputs": [],
      "source": [
        "# Pandas is a software library written for the Python programming language for data manipulation and analysis.\n",
        "import pandas as pd\n",
        "\n",
        "#NumPy is a library for the Python programming language, adding support for large, multi-dimensional arrays and matrices, along with a large collection of high-level mathematical functions to operate on these arrays\n",
        "import numpy as np\n"
      ]
    },
    {
      "cell_type": "markdown",
      "source": [
        "$ \\ $\n",
        "\n",
        "----\n",
        "\n",
        "## ***Data Analysis.***\n",
        "\n",
        "$(1)$ Load SpaceX dataset, from last section."
      ],
      "metadata": {
        "id": "YQL__WsUzto4"
      }
    },
    {
      "cell_type": "code",
      "source": [
        "df=pd.read_csv(\"https://cf-courses-data.s3.us.cloud-object-storage.appdomain.cloud/IBM-DS0321EN-SkillsNetwork/datasets/dataset_part_1.csv\")\n",
        "df.head()\n"
      ],
      "metadata": {
        "colab": {
          "base_uri": "https://localhost:8080/",
          "height": 337
        },
        "id": "hinVaKrdzzIQ",
        "outputId": "719e917d-e831-41d3-b9ed-ea8f6342a2ea"
      },
      "execution_count": 2,
      "outputs": [
        {
          "output_type": "execute_result",
          "data": {
            "text/plain": [
              "   FlightNumber        Date BoosterVersion  PayloadMass Orbit    LaunchSite  \\\n",
              "0             1  2010-06-04       Falcon 9  6104.959412   LEO  CCAFS SLC 40   \n",
              "1             2  2012-05-22       Falcon 9   525.000000   LEO  CCAFS SLC 40   \n",
              "2             3  2013-03-01       Falcon 9   677.000000   ISS  CCAFS SLC 40   \n",
              "3             4  2013-09-29       Falcon 9   500.000000    PO   VAFB SLC 4E   \n",
              "4             5  2013-12-03       Falcon 9  3170.000000   GTO  CCAFS SLC 40   \n",
              "\n",
              "       Outcome  Flights  GridFins  Reused   Legs LandingPad  Block  \\\n",
              "0    None None        1     False   False  False        NaN    1.0   \n",
              "1    None None        1     False   False  False        NaN    1.0   \n",
              "2    None None        1     False   False  False        NaN    1.0   \n",
              "3  False Ocean        1     False   False  False        NaN    1.0   \n",
              "4    None None        1     False   False  False        NaN    1.0   \n",
              "\n",
              "   ReusedCount Serial   Longitude   Latitude  \n",
              "0            0  B0003  -80.577366  28.561857  \n",
              "1            0  B0005  -80.577366  28.561857  \n",
              "2            0  B0007  -80.577366  28.561857  \n",
              "3            0  B1003 -120.610829  34.632093  \n",
              "4            0  B1004  -80.577366  28.561857  "
            ],
            "text/html": [
              "\n",
              "  <div id=\"df-bccddf7a-faa7-43e3-a8d4-5ef492a44e89\">\n",
              "    <div class=\"colab-df-container\">\n",
              "      <div>\n",
              "<style scoped>\n",
              "    .dataframe tbody tr th:only-of-type {\n",
              "        vertical-align: middle;\n",
              "    }\n",
              "\n",
              "    .dataframe tbody tr th {\n",
              "        vertical-align: top;\n",
              "    }\n",
              "\n",
              "    .dataframe thead th {\n",
              "        text-align: right;\n",
              "    }\n",
              "</style>\n",
              "<table border=\"1\" class=\"dataframe\">\n",
              "  <thead>\n",
              "    <tr style=\"text-align: right;\">\n",
              "      <th></th>\n",
              "      <th>FlightNumber</th>\n",
              "      <th>Date</th>\n",
              "      <th>BoosterVersion</th>\n",
              "      <th>PayloadMass</th>\n",
              "      <th>Orbit</th>\n",
              "      <th>LaunchSite</th>\n",
              "      <th>Outcome</th>\n",
              "      <th>Flights</th>\n",
              "      <th>GridFins</th>\n",
              "      <th>Reused</th>\n",
              "      <th>Legs</th>\n",
              "      <th>LandingPad</th>\n",
              "      <th>Block</th>\n",
              "      <th>ReusedCount</th>\n",
              "      <th>Serial</th>\n",
              "      <th>Longitude</th>\n",
              "      <th>Latitude</th>\n",
              "    </tr>\n",
              "  </thead>\n",
              "  <tbody>\n",
              "    <tr>\n",
              "      <th>0</th>\n",
              "      <td>1</td>\n",
              "      <td>2010-06-04</td>\n",
              "      <td>Falcon 9</td>\n",
              "      <td>6104.959412</td>\n",
              "      <td>LEO</td>\n",
              "      <td>CCAFS SLC 40</td>\n",
              "      <td>None None</td>\n",
              "      <td>1</td>\n",
              "      <td>False</td>\n",
              "      <td>False</td>\n",
              "      <td>False</td>\n",
              "      <td>NaN</td>\n",
              "      <td>1.0</td>\n",
              "      <td>0</td>\n",
              "      <td>B0003</td>\n",
              "      <td>-80.577366</td>\n",
              "      <td>28.561857</td>\n",
              "    </tr>\n",
              "    <tr>\n",
              "      <th>1</th>\n",
              "      <td>2</td>\n",
              "      <td>2012-05-22</td>\n",
              "      <td>Falcon 9</td>\n",
              "      <td>525.000000</td>\n",
              "      <td>LEO</td>\n",
              "      <td>CCAFS SLC 40</td>\n",
              "      <td>None None</td>\n",
              "      <td>1</td>\n",
              "      <td>False</td>\n",
              "      <td>False</td>\n",
              "      <td>False</td>\n",
              "      <td>NaN</td>\n",
              "      <td>1.0</td>\n",
              "      <td>0</td>\n",
              "      <td>B0005</td>\n",
              "      <td>-80.577366</td>\n",
              "      <td>28.561857</td>\n",
              "    </tr>\n",
              "    <tr>\n",
              "      <th>2</th>\n",
              "      <td>3</td>\n",
              "      <td>2013-03-01</td>\n",
              "      <td>Falcon 9</td>\n",
              "      <td>677.000000</td>\n",
              "      <td>ISS</td>\n",
              "      <td>CCAFS SLC 40</td>\n",
              "      <td>None None</td>\n",
              "      <td>1</td>\n",
              "      <td>False</td>\n",
              "      <td>False</td>\n",
              "      <td>False</td>\n",
              "      <td>NaN</td>\n",
              "      <td>1.0</td>\n",
              "      <td>0</td>\n",
              "      <td>B0007</td>\n",
              "      <td>-80.577366</td>\n",
              "      <td>28.561857</td>\n",
              "    </tr>\n",
              "    <tr>\n",
              "      <th>3</th>\n",
              "      <td>4</td>\n",
              "      <td>2013-09-29</td>\n",
              "      <td>Falcon 9</td>\n",
              "      <td>500.000000</td>\n",
              "      <td>PO</td>\n",
              "      <td>VAFB SLC 4E</td>\n",
              "      <td>False Ocean</td>\n",
              "      <td>1</td>\n",
              "      <td>False</td>\n",
              "      <td>False</td>\n",
              "      <td>False</td>\n",
              "      <td>NaN</td>\n",
              "      <td>1.0</td>\n",
              "      <td>0</td>\n",
              "      <td>B1003</td>\n",
              "      <td>-120.610829</td>\n",
              "      <td>34.632093</td>\n",
              "    </tr>\n",
              "    <tr>\n",
              "      <th>4</th>\n",
              "      <td>5</td>\n",
              "      <td>2013-12-03</td>\n",
              "      <td>Falcon 9</td>\n",
              "      <td>3170.000000</td>\n",
              "      <td>GTO</td>\n",
              "      <td>CCAFS SLC 40</td>\n",
              "      <td>None None</td>\n",
              "      <td>1</td>\n",
              "      <td>False</td>\n",
              "      <td>False</td>\n",
              "      <td>False</td>\n",
              "      <td>NaN</td>\n",
              "      <td>1.0</td>\n",
              "      <td>0</td>\n",
              "      <td>B1004</td>\n",
              "      <td>-80.577366</td>\n",
              "      <td>28.561857</td>\n",
              "    </tr>\n",
              "  </tbody>\n",
              "</table>\n",
              "</div>\n",
              "      <button class=\"colab-df-convert\" onclick=\"convertToInteractive('df-bccddf7a-faa7-43e3-a8d4-5ef492a44e89')\"\n",
              "              title=\"Convert this dataframe to an interactive table.\"\n",
              "              style=\"display:none;\">\n",
              "        \n",
              "  <svg xmlns=\"http://www.w3.org/2000/svg\" height=\"24px\"viewBox=\"0 0 24 24\"\n",
              "       width=\"24px\">\n",
              "    <path d=\"M0 0h24v24H0V0z\" fill=\"none\"/>\n",
              "    <path d=\"M18.56 5.44l.94 2.06.94-2.06 2.06-.94-2.06-.94-.94-2.06-.94 2.06-2.06.94zm-11 1L8.5 8.5l.94-2.06 2.06-.94-2.06-.94L8.5 2.5l-.94 2.06-2.06.94zm10 10l.94 2.06.94-2.06 2.06-.94-2.06-.94-.94-2.06-.94 2.06-2.06.94z\"/><path d=\"M17.41 7.96l-1.37-1.37c-.4-.4-.92-.59-1.43-.59-.52 0-1.04.2-1.43.59L10.3 9.45l-7.72 7.72c-.78.78-.78 2.05 0 2.83L4 21.41c.39.39.9.59 1.41.59.51 0 1.02-.2 1.41-.59l7.78-7.78 2.81-2.81c.8-.78.8-2.07 0-2.86zM5.41 20L4 18.59l7.72-7.72 1.47 1.35L5.41 20z\"/>\n",
              "  </svg>\n",
              "      </button>\n",
              "      \n",
              "  <style>\n",
              "    .colab-df-container {\n",
              "      display:flex;\n",
              "      flex-wrap:wrap;\n",
              "      gap: 12px;\n",
              "    }\n",
              "\n",
              "    .colab-df-convert {\n",
              "      background-color: #E8F0FE;\n",
              "      border: none;\n",
              "      border-radius: 50%;\n",
              "      cursor: pointer;\n",
              "      display: none;\n",
              "      fill: #1967D2;\n",
              "      height: 32px;\n",
              "      padding: 0 0 0 0;\n",
              "      width: 32px;\n",
              "    }\n",
              "\n",
              "    .colab-df-convert:hover {\n",
              "      background-color: #E2EBFA;\n",
              "      box-shadow: 0px 1px 2px rgba(60, 64, 67, 0.3), 0px 1px 3px 1px rgba(60, 64, 67, 0.15);\n",
              "      fill: #174EA6;\n",
              "    }\n",
              "\n",
              "    [theme=dark] .colab-df-convert {\n",
              "      background-color: #3B4455;\n",
              "      fill: #D2E3FC;\n",
              "    }\n",
              "\n",
              "    [theme=dark] .colab-df-convert:hover {\n",
              "      background-color: #434B5C;\n",
              "      box-shadow: 0px 1px 3px 1px rgba(0, 0, 0, 0.15);\n",
              "      filter: drop-shadow(0px 1px 2px rgba(0, 0, 0, 0.3));\n",
              "      fill: #FFFFFF;\n",
              "    }\n",
              "  </style>\n",
              "\n",
              "      <script>\n",
              "        const buttonEl =\n",
              "          document.querySelector('#df-bccddf7a-faa7-43e3-a8d4-5ef492a44e89 button.colab-df-convert');\n",
              "        buttonEl.style.display =\n",
              "          google.colab.kernel.accessAllowed ? 'block' : 'none';\n",
              "\n",
              "        async function convertToInteractive(key) {\n",
              "          const element = document.querySelector('#df-bccddf7a-faa7-43e3-a8d4-5ef492a44e89');\n",
              "          const dataTable =\n",
              "            await google.colab.kernel.invokeFunction('convertToInteractive',\n",
              "                                                     [key], {});\n",
              "          if (!dataTable) return;\n",
              "\n",
              "          const docLinkHtml = 'Like what you see? Visit the ' +\n",
              "            '<a target=\"_blank\" href=https://colab.research.google.com/notebooks/data_table.ipynb>data table notebook</a>'\n",
              "            + ' to learn more about interactive tables.';\n",
              "          element.innerHTML = '';\n",
              "          dataTable['output_type'] = 'display_data';\n",
              "          await google.colab.output.renderOutput(dataTable, element);\n",
              "          const docLink = document.createElement('div');\n",
              "          docLink.innerHTML = docLinkHtml;\n",
              "          element.appendChild(docLink);\n",
              "        }\n",
              "      </script>\n",
              "    </div>\n",
              "  </div>\n",
              "  "
            ]
          },
          "metadata": {},
          "execution_count": 2
        }
      ]
    },
    {
      "cell_type": "markdown",
      "source": [
        "$ \\ $\n",
        "\n",
        "$(2)$ Identify and calculate the percentage of the missing values in each attribute."
      ],
      "metadata": {
        "id": "1xaB2UXP0Umc"
      }
    },
    {
      "cell_type": "code",
      "source": [
        "df.isnull().sum()"
      ],
      "metadata": {
        "colab": {
          "base_uri": "https://localhost:8080/"
        },
        "id": "U9nPxeQy0z_1",
        "outputId": "e1f1a411-7151-453a-8f15-6e778f6bbd39"
      },
      "execution_count": 3,
      "outputs": [
        {
          "output_type": "execute_result",
          "data": {
            "text/plain": [
              "FlightNumber       0\n",
              "Date               0\n",
              "BoosterVersion     0\n",
              "PayloadMass        0\n",
              "Orbit              0\n",
              "LaunchSite         0\n",
              "Outcome            0\n",
              "Flights            0\n",
              "GridFins           0\n",
              "Reused             0\n",
              "Legs               0\n",
              "LandingPad        26\n",
              "Block              0\n",
              "ReusedCount        0\n",
              "Serial             0\n",
              "Longitude          0\n",
              "Latitude           0\n",
              "dtype: int64"
            ]
          },
          "metadata": {},
          "execution_count": 3
        }
      ]
    },
    {
      "cell_type": "code",
      "source": [
        "df.count()"
      ],
      "metadata": {
        "colab": {
          "base_uri": "https://localhost:8080/"
        },
        "id": "-CWzA2RG01f3",
        "outputId": "cd20e436-9338-4e0a-c62c-101d3cd20c11"
      },
      "execution_count": 4,
      "outputs": [
        {
          "output_type": "execute_result",
          "data": {
            "text/plain": [
              "FlightNumber      90\n",
              "Date              90\n",
              "BoosterVersion    90\n",
              "PayloadMass       90\n",
              "Orbit             90\n",
              "LaunchSite        90\n",
              "Outcome           90\n",
              "Flights           90\n",
              "GridFins          90\n",
              "Reused            90\n",
              "Legs              90\n",
              "LandingPad        64\n",
              "Block             90\n",
              "ReusedCount       90\n",
              "Serial            90\n",
              "Longitude         90\n",
              "Latitude          90\n",
              "dtype: int64"
            ]
          },
          "metadata": {},
          "execution_count": 4
        }
      ]
    },
    {
      "cell_type": "code",
      "source": [
        "a = df.isnull().sum()\n",
        "b = df.count()\n",
        "\n",
        "porcentage = (a/b)*100\n",
        "porcentage"
      ],
      "metadata": {
        "colab": {
          "base_uri": "https://localhost:8080/"
        },
        "id": "-pB7PS6gz1tL",
        "outputId": "02fc1e42-fba3-4bac-8a55-e747e261ffd7"
      },
      "execution_count": 5,
      "outputs": [
        {
          "output_type": "execute_result",
          "data": {
            "text/plain": [
              "FlightNumber       0.000\n",
              "Date               0.000\n",
              "BoosterVersion     0.000\n",
              "PayloadMass        0.000\n",
              "Orbit              0.000\n",
              "LaunchSite         0.000\n",
              "Outcome            0.000\n",
              "Flights            0.000\n",
              "GridFins           0.000\n",
              "Reused             0.000\n",
              "Legs               0.000\n",
              "LandingPad        40.625\n",
              "Block              0.000\n",
              "ReusedCount        0.000\n",
              "Serial             0.000\n",
              "Longitude          0.000\n",
              "Latitude           0.000\n",
              "dtype: float64"
            ]
          },
          "metadata": {},
          "execution_count": 5
        }
      ]
    },
    {
      "cell_type": "markdown",
      "source": [
        "$ \\ $\n",
        "\n",
        "$(3)$ Identify which columns are numerical and categorical:"
      ],
      "metadata": {
        "id": "F84upTsS3NZK"
      }
    },
    {
      "cell_type": "code",
      "source": [
        "df.dtypes"
      ],
      "metadata": {
        "colab": {
          "base_uri": "https://localhost:8080/"
        },
        "id": "u5e_WNkW0v8q",
        "outputId": "03832406-cfe0-4b7f-a421-27f8766d2417"
      },
      "execution_count": 6,
      "outputs": [
        {
          "output_type": "execute_result",
          "data": {
            "text/plain": [
              "FlightNumber        int64\n",
              "Date               object\n",
              "BoosterVersion     object\n",
              "PayloadMass       float64\n",
              "Orbit              object\n",
              "LaunchSite         object\n",
              "Outcome            object\n",
              "Flights             int64\n",
              "GridFins             bool\n",
              "Reused               bool\n",
              "Legs                 bool\n",
              "LandingPad         object\n",
              "Block             float64\n",
              "ReusedCount         int64\n",
              "Serial             object\n",
              "Longitude         float64\n",
              "Latitude          float64\n",
              "dtype: object"
            ]
          },
          "metadata": {},
          "execution_count": 6
        }
      ]
    },
    {
      "cell_type": "markdown",
      "source": [
        "$ \\ $ \n",
        "\n",
        "-----\n",
        "\n",
        "\n",
        "## ***Note (data info).***\n",
        "\n",
        "The data contains several SpaceX launch facilities: \n",
        "\n",
        "* Cape Canaveral Space Launch Complex 40 VAFB SLC 4E \n",
        "\n",
        "* Vandenberg Air Force Base Space Launch Complex 4E (SLC-4E)\n",
        "\n",
        "* Kennedy Space Center Launch Complex 39A KSC LC 39A \n",
        "\n",
        "The location of each Launch is placed in the column LaunchSite.\n"
      ],
      "metadata": {
        "id": "D7OfX8zy3auM"
      }
    },
    {
      "cell_type": "markdown",
      "source": [
        "$ \\ $\n",
        "\n",
        "---\n",
        "\n",
        "## ***TASK 1: Calculate the number of launches on each site.***\n",
        "\n",
        "Let's see the number of launches for each site. For this part we will use the method \n",
        "\n",
        "$$\\color{aquamarine}{\\text{value_counts()}}$$\n",
        "\n",
        "on the column LaunchSite to determine the number of launches on each site."
      ],
      "metadata": {
        "id": "t8KgIqGEAUNf"
      }
    },
    {
      "cell_type": "code",
      "source": [
        "df[\"LaunchSite\"].head()"
      ],
      "metadata": {
        "colab": {
          "base_uri": "https://localhost:8080/"
        },
        "id": "93n8uG4NAnUk",
        "outputId": "90ff754d-dfd8-49c8-ff13-720df6184da6"
      },
      "execution_count": 7,
      "outputs": [
        {
          "output_type": "execute_result",
          "data": {
            "text/plain": [
              "0    CCAFS SLC 40\n",
              "1    CCAFS SLC 40\n",
              "2    CCAFS SLC 40\n",
              "3     VAFB SLC 4E\n",
              "4    CCAFS SLC 40\n",
              "Name: LaunchSite, dtype: object"
            ]
          },
          "metadata": {},
          "execution_count": 7
        }
      ]
    },
    {
      "cell_type": "code",
      "source": [
        "df.columns"
      ],
      "metadata": {
        "colab": {
          "base_uri": "https://localhost:8080/"
        },
        "id": "r-yfjSjY3UjV",
        "outputId": "e65d7c93-dcfb-4397-e091-b0cee10808a9"
      },
      "execution_count": 8,
      "outputs": [
        {
          "output_type": "execute_result",
          "data": {
            "text/plain": [
              "Index(['FlightNumber', 'Date', 'BoosterVersion', 'PayloadMass', 'Orbit',\n",
              "       'LaunchSite', 'Outcome', 'Flights', 'GridFins', 'Reused', 'Legs',\n",
              "       'LandingPad', 'Block', 'ReusedCount', 'Serial', 'Longitude',\n",
              "       'Latitude'],\n",
              "      dtype='object')"
            ]
          },
          "metadata": {},
          "execution_count": 8
        }
      ]
    },
    {
      "cell_type": "code",
      "source": [
        "# Apply value_counts() on column LaunchSite\n",
        "df[\"LaunchSite\"].value_counts()"
      ],
      "metadata": {
        "colab": {
          "base_uri": "https://localhost:8080/"
        },
        "id": "TywOUgPkAWC0",
        "outputId": "5416537a-df97-4b3e-de5b-2d3d45cc9c0b"
      },
      "execution_count": 9,
      "outputs": [
        {
          "output_type": "execute_result",
          "data": {
            "text/plain": [
              "CCAFS SLC 40    55\n",
              "KSC LC 39A      22\n",
              "VAFB SLC 4E     13\n",
              "Name: LaunchSite, dtype: int64"
            ]
          },
          "metadata": {},
          "execution_count": 9
        }
      ]
    },
    {
      "cell_type": "markdown",
      "source": [
        "$ \\ $\n",
        "\n",
        "----\n",
        "\n",
        "## ***Note (previous result).***\n",
        "\n",
        "Each launch aims (apunta) to an dedicated orbit, and here are some common orbit types:\n",
        "\n",
        "$\\color{aquamarine}{\\text{(1) LEO = Low earth orbit:}}$ It is an Earth-centred orbit with an altitude of 2,000 km (1,200 mi) or less (approximately one-third of the radius of Earth) or with at least 11.25 periods per day (an orbital period of 128 minutes or less) and an eccentricity less than 0.25 Most of the manmade (artifical) objects in outer space are in LEO [[1]](https://en.wikipedia.org/wiki/Low_Earth_orbit?utm_medium=Exinfluencer&utm_source=Exinfluencer&utm_content=000026UJ&utm_term=10006555&utm_id=NA-SkillsNetwork-Channel-SkillsNetworkCoursesIBMDS0321ENSkillsNetwork26802033-2022-01-01)\n",
        "\n",
        "\n",
        "\n",
        "\n",
        "$\\color{aquamarine}{\\text{(2) VLEO = Very low earth orbits:}}$ It can be defined as the orbits with a mean altitude below 450 km. Operating in these orbits can provide a number of benefits to Earth observation spacecraft as the spacecraft (astronave) operates closer to the observation [[2]](https://www.researchgate.net/publication/271499606_Very_Low_Earth_Orbit_mission_concepts_for_Earth_Observation_Benefits_and_challenges?utm_medium=Exinfluencer&utm_source=Exinfluencer&utm_content=000026UJ&utm_term=10006555&utm_id=NA-SkillsNetwork-Channel-SkillsNetworkCoursesIBMDS0321ENSkillsNetwork26802033-2022-01-01)\n",
        "\n",
        "\n",
        "$\\color{aquamarine}{\\text{(3) GTO = geosynchronous orbit:}}$ It is a high Earth orbit that allows satellites to match Earth's rotation. Located at 22,236 miles (35,786 kilometers) above Earth's equator, this position is a valuable spot (lugar valioso) for monitoring weather, communications and surveillance (vigilancia). Because the satellite orbits at the same speed that the Earth is turning, the satellite seems to stay in place over a single longitude, though it may drift north (deriva hacia el norte) to south [[3]](https://www.space.com/29222-geosynchronous-orbit.html?utm_medium=Exinfluencer&utm_source=Exinfluencer&utm_content=000026UJ&utm_term=10006555&utm_id=NA-SkillsNetwork-Channel-SkillsNetworkCoursesIBMDS0321ENSkillsNetwork26802033-2022-01-01)\n",
        "\n",
        "\n",
        "$\\color{aquamarine}{\\text{(4)  SSO = Sun-synchronous orbit (or SO):}}$ It is a nearly polar orbit around a planet, in which the satellite passes over any given point of the planet's surface at the same local mean solar time [[4]](https://en.wikipedia.org/wiki/Sun-synchronous_orbit?utm_medium=Exinfluencer&utm_source=Exinfluencer&utm_content=000026UJ&utm_term=10006555&utm_id=NA-SkillsNetwork-Channel-SkillsNetworkCoursesIBMDS0321ENSkillsNetwork26802033-2022-01-01)\n",
        "\n",
        "\n",
        "\n",
        "$\\color{aquamarine}{\\text{(5) ES-L1: }}$ At the Lagrange points the gravitational forces of the two large bodies cancel out in such a way that a small object placed in orbit there is in equilibrium relative to the center of mass of the large bodies. L1 is one such point between the sun and the earth [[5]](https://en.wikipedia.org/wiki/Lagrange_point?utm_medium=Exinfluencer&utm_source=Exinfluencer&utm_content=000026UJ&utm_term=10006555&utm_id=NA-SkillsNetwork-Channel-SkillsNetworkCoursesIBMDS0321ENSkillsNetwork26802033-2022-01-01#L1_point)\n",
        "\n",
        "\n",
        "\n",
        "$\\color{aquamarine}{\\text{(6) HEO = highly elliptical orbit:}}$ It is an elliptic orbit with high eccentricity, usually referring to one around Earth [[6]](https://en.wikipedia.org/wiki/Highly_elliptical_orbit?utm_medium=Exinfluencer&utm_source=Exinfluencer&utm_content=000026UJ&utm_term=10006555&utm_id=NA-SkillsNetwork-Channel-SkillsNetworkCoursesIBMDS0321ENSkillsNetwork26802033-2022-01-01)\n",
        "\n",
        "\n",
        "\n",
        "$\\color{aquamarine}{\\text{(7) ISS:}}$ It is a modular space station (habitable artificial satellite) in low Earth orbit. It is a multinational collaborative project between five participating space agencies: NASA (United States), Roscosmos (Russia), JAXA (Japan), ESA (Europe), and CSA (Canada) [[7]](https://en.wikipedia.org/wiki/International_Space_Station?utm_medium=Exinfluencer&utm_source=Exinfluencer&utm_content=000026UJ&utm_term=10006555&utm_id=NA-SkillsNetwork-Channel-SkillsNetworkCoursesIBMDS0321ENSkillsNetwork26802033-2022-01-01)\n",
        "\n",
        "\n",
        "$\\color{aquamarine}{\\text{(8) MEO:}}$ Geocentric orbits ranging in altitude from 2,000 km (1,200 mi) to just below geosynchronous orbit at 35,786 kilometers (22,236 mi). Also known as an intermediate circular orbit. These are \"most commonly at 20,200 kilometers (12,600 mi), or 20,650 kilometers (12,830 mi), with an orbital period of 12 hours [[8]](https://en.wikipedia.org/wiki/List_of_orbits?utm_medium=Exinfluencer&utm_source=Exinfluencer&utm_content=000026UJ&utm_term=10006555&utm_id=NA-SkillsNetwork-Channel-SkillsNetworkCoursesIBMDS0321ENSkillsNetwork26802033-2022-01-01)\n",
        "\n",
        "\n",
        "\n",
        "$\\color{aquamarine}{\\text{(9) HEO:}}$ It is a geocentric orbits above the altitude of geosynchronous orbit (35,786 km or 22,236 mi) [[9]](https://en.wikipedia.org/wiki/List_of_orbits?utm_medium=Exinfluencer&utm_source=Exinfluencer&utm_content=000026UJ&utm_term=10006555&utm_id=NA-SkillsNetwork-Channel-SkillsNetworkCoursesIBMDS0321ENSkillsNetwork26802033-2022-01-01)\n",
        "\n",
        "\n",
        "$\\color{aquamarine}{\\text{(10) GEO:}}$ It is a circular geosynchronous orbit 35,786 kilometres (22,236 miles) above Earth's equator and following the direction of Earth's rotation [[10]](https://en.wikipedia.org/wiki/Geostationary_orbit?utm_medium=Exinfluencer&utm_source=Exinfluencer&utm_content=000026UJ&utm_term=10006555&utm_id=NA-SkillsNetwork-Channel-SkillsNetworkCoursesIBMDS0321ENSkillsNetwork26802033-2022-01-01)\n",
        "\n",
        "\n",
        "$\\color{aquamarine}{\\text{(11) PO:}}$ It is one type of satellites in which a satellite passes above or nearly above both poles of the body being orbited (usually a planet such as the Earth [[11]](https://en.wikipedia.org/wiki/Polar_orbit?utm_medium=Exinfluencer&utm_source=Exinfluencer&utm_content=000026UJ&utm_term=10006555&utm_id=NA-SkillsNetwork-Channel-SkillsNetworkCoursesIBMDS0321ENSkillsNetwork26802033-2022-01-01)\n",
        "\n",
        "\n",
        "\n",
        "some are shown in the following plot:\n"
      ],
      "metadata": {
        "id": "2OXOGjGIA2LA"
      }
    },
    {
      "cell_type": "markdown",
      "source": [
        "![](https://cf-courses-data.s3.us.cloud-object-storage.appdomain.cloud/IBMDeveloperSkillsNetwork-DS0701EN-SkillsNetwork/api/Images/Orbits.png)\n"
      ],
      "metadata": {
        "id": "9Ywb4ORB4_IK"
      }
    },
    {
      "cell_type": "markdown",
      "source": [
        "$ \\ $\n",
        "\n",
        "----\n",
        "\n",
        "## ***TASK 2: Calculate the number and occurrence of each orbit.***\n",
        "\n",
        "Use the method  <code>.value_counts()</code> to determine the number and occurrence of each orbit in the  column <code>Orbit</code>.\n"
      ],
      "metadata": {
        "id": "AGq6HLeg5I2g"
      }
    },
    {
      "cell_type": "code",
      "source": [
        "df[\"Orbit\"].value_counts()"
      ],
      "metadata": {
        "id": "KmRIu5skQIte",
        "colab": {
          "base_uri": "https://localhost:8080/"
        },
        "outputId": "a2072552-44e1-4312-865d-4f3920791beb"
      },
      "execution_count": 10,
      "outputs": [
        {
          "output_type": "execute_result",
          "data": {
            "text/plain": [
              "GTO      27\n",
              "ISS      21\n",
              "VLEO     14\n",
              "PO        9\n",
              "LEO       7\n",
              "SSO       5\n",
              "MEO       3\n",
              "ES-L1     1\n",
              "HEO       1\n",
              "SO        1\n",
              "GEO       1\n",
              "Name: Orbit, dtype: int64"
            ]
          },
          "metadata": {},
          "execution_count": 10
        }
      ]
    },
    {
      "cell_type": "markdown",
      "source": [
        "$ \\ $\n",
        "\n",
        "----\n",
        "\n",
        "## ***TASK 3: Calculate the number and occurence of mission outcome per orbit type.***\n",
        "\n",
        "$(1)$ Use the method <code>.value_counts()</code> on the column <code>Outcome</code> to determine the number of <code>landing_outcomes</code>.Then assign it to a variable landing_outcomes."
      ],
      "metadata": {
        "id": "zvWc-uGP6HmC"
      }
    },
    {
      "cell_type": "code",
      "source": [
        "landing_outcomes = df[\"Outcome\"].value_counts()\n",
        "landing_outcomes"
      ],
      "metadata": {
        "colab": {
          "base_uri": "https://localhost:8080/"
        },
        "id": "trAyQYj46P0q",
        "outputId": "83590993-d2df-4944-f09a-e27599388d83"
      },
      "execution_count": 11,
      "outputs": [
        {
          "output_type": "execute_result",
          "data": {
            "text/plain": [
              "True ASDS      41\n",
              "None None      19\n",
              "True RTLS      14\n",
              "False ASDS      6\n",
              "True Ocean      5\n",
              "False Ocean     2\n",
              "None ASDS       2\n",
              "False RTLS      1\n",
              "Name: Outcome, dtype: int64"
            ]
          },
          "metadata": {},
          "execution_count": 11
        }
      ]
    },
    {
      "cell_type": "code",
      "source": [
        "list(landing_outcomes.keys())"
      ],
      "metadata": {
        "colab": {
          "base_uri": "https://localhost:8080/"
        },
        "id": "jyfunHTb-hN0",
        "outputId": "47850d8d-0c44-4250-9961-233b74eb6401"
      },
      "execution_count": 12,
      "outputs": [
        {
          "output_type": "execute_result",
          "data": {
            "text/plain": [
              "['True ASDS',\n",
              " 'None None',\n",
              " 'True RTLS',\n",
              " 'False ASDS',\n",
              " 'True Ocean',\n",
              " 'False Ocean',\n",
              " 'None ASDS',\n",
              " 'False RTLS']"
            ]
          },
          "metadata": {},
          "execution_count": 12
        }
      ]
    },
    {
      "cell_type": "code",
      "source": [
        "for i,outcome in enumerate(landing_outcomes.keys()):\n",
        "    print(i, outcome)"
      ],
      "metadata": {
        "colab": {
          "base_uri": "https://localhost:8080/"
        },
        "id": "uoKx0TyE7G5L",
        "outputId": "80fc02fd-8188-48d0-d8e2-fdc26356900a"
      },
      "execution_count": 13,
      "outputs": [
        {
          "output_type": "stream",
          "name": "stdout",
          "text": [
            "0 True ASDS\n",
            "1 None None\n",
            "2 True RTLS\n",
            "3 False ASDS\n",
            "4 True Ocean\n",
            "5 False Ocean\n",
            "6 None ASDS\n",
            "7 False RTLS\n"
          ]
        }
      ]
    },
    {
      "cell_type": "markdown",
      "source": [
        "$ \\ $ \n",
        "\n",
        "$(2)$ We create a set of outcomes where the second stage did not land successfully:"
      ],
      "metadata": {
        "id": "SVyOlrMz7yNW"
      }
    },
    {
      "cell_type": "code",
      "source": [
        "bad_outcomes=set(landing_outcomes.keys()[[1,3,5,6,7]])\n",
        "bad_outcomes"
      ],
      "metadata": {
        "colab": {
          "base_uri": "https://localhost:8080/"
        },
        "id": "g8JlV7F47ovq",
        "outputId": "ed9dd1f1-46ce-4ae1-cdab-1276e5bb394a"
      },
      "execution_count": 14,
      "outputs": [
        {
          "output_type": "execute_result",
          "data": {
            "text/plain": [
              "{'False ASDS', 'False Ocean', 'False RTLS', 'None ASDS', 'None None'}"
            ]
          },
          "metadata": {},
          "execution_count": 14
        }
      ]
    },
    {
      "cell_type": "markdown",
      "source": [
        "$ \\ $\n",
        "\n",
        "-----\n",
        "\n",
        "## ***TASK 4: Create a landing outcome label from Outcome column.***\n",
        "\n",
        "$(1)$ Using the Outcome, create a list where:\n",
        "\n",
        "* The element is $0$, if the corresponding row in Outcome is in the set bad_outcome.\n",
        "\n",
        "* The element is $1$, if the corresponding row in Outcome is not in the set bad_outcome.\n",
        "\n",
        "* Assign it to the variable landing_class."
      ],
      "metadata": {
        "id": "Qd-ojnqO8Ojb"
      }
    },
    {
      "cell_type": "code",
      "source": [
        "landing_class = list()\n",
        "\n",
        "for x in list(df[\"Outcome\"]):\n",
        "  if x in bad_outcomes:\n",
        "    landing_class.append(0)\n",
        "  else:\n",
        "    landing_class.append(1)"
      ],
      "metadata": {
        "id": "36oHChi675P2"
      },
      "execution_count": 15,
      "outputs": []
    },
    {
      "cell_type": "markdown",
      "source": [
        "$ \\ $\n",
        "\n",
        "$(2)$ This variable will represent the classification variable that represents the outcome of each launch. If the value is zero, the first stage did not land successfully; one means the first stage landed Successfully."
      ],
      "metadata": {
        "id": "qU9Qzeu_-yGS"
      }
    },
    {
      "cell_type": "code",
      "source": [
        "df[\"Class\"] = landing_class\n",
        "df[\"Class\"].head()"
      ],
      "metadata": {
        "colab": {
          "base_uri": "https://localhost:8080/"
        },
        "id": "D9vsSRWj-qZa",
        "outputId": "4a59ba38-8a79-4043-f69b-cdd21bed5472"
      },
      "execution_count": 16,
      "outputs": [
        {
          "output_type": "execute_result",
          "data": {
            "text/plain": [
              "0    0\n",
              "1    0\n",
              "2    0\n",
              "3    0\n",
              "4    0\n",
              "Name: Class, dtype: int64"
            ]
          },
          "metadata": {},
          "execution_count": 16
        }
      ]
    },
    {
      "cell_type": "markdown",
      "source": [
        "$ \\ $\n",
        "\n",
        "$(3)$ We can use the following line of code to determine the success rate:"
      ],
      "metadata": {
        "id": "wc1lRcmm_yLP"
      }
    },
    {
      "cell_type": "code",
      "source": [
        "df[\"Class\"].mean()"
      ],
      "metadata": {
        "colab": {
          "base_uri": "https://localhost:8080/"
        },
        "id": "gdPV7jvi_BMN",
        "outputId": "300c838e-3e8f-472c-f996-5a6c26caeb32"
      },
      "execution_count": 17,
      "outputs": [
        {
          "output_type": "execute_result",
          "data": {
            "text/plain": [
              "0.6666666666666666"
            ]
          },
          "metadata": {},
          "execution_count": 17
        }
      ]
    },
    {
      "cell_type": "markdown",
      "source": [
        "$ \\ $\n",
        "\n",
        "$(4)$ We can now export it to a CSV for the next section,but to make the answers consistent, in the next lab we will provide data in a pre-selected date range."
      ],
      "metadata": {
        "id": "AfONnOPTADxl"
      }
    },
    {
      "cell_type": "code",
      "source": [
        "df.to_csv(\"dataset_part_2.csv\", index = False)"
      ],
      "metadata": {
        "id": "XWButvlz__6Y"
      },
      "execution_count": 18,
      "outputs": []
    }
  ]
}