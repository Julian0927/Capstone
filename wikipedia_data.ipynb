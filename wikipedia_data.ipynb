{
  "nbformat": 4,
  "nbformat_minor": 0,
  "metadata": {
    "colab": {
      "provenance": []
    },
    "kernelspec": {
      "name": "python3",
      "display_name": "Python 3"
    },
    "language_info": {
      "name": "python"
    }
  },
  "cells": [
    {
      "cell_type": "markdown",
      "source": [
        "<p style=\"text-align:center\">\n",
        "    <a href=\"https://skills.network/?utm_medium=Exinfluencer&utm_source=Exinfluencer&utm_content=000026UJ&utm_term=10006555&utm_id=NA-SkillsNetwork-Channel-SkillsNetworkCoursesIBMDS0321ENSkillsNetwork26802033-2022-01-01\" target=\"_blank\">\n",
        "    <img src=\"https://cf-courses-data.s3.us.cloud-object-storage.appdomain.cloud/assets/logos/SN_web_lightmode.png\" width=\"200\" alt=\"Skills Network Logo\"  />\n",
        "    </a>\n",
        "</p>\n",
        "\n",
        "\n",
        "$ \\ $\n",
        "\n",
        "# ***Space X  Falcon 9 First Stage Landing Prediction***\n",
        "\n",
        "$ \\ $\n",
        "\n",
        "## ***Web scraping Falcon 9 and Falcon Heavy Launches Records from Wikipedia***\n",
        "\n",
        "$ \\ $\n",
        "\n",
        "In this lab, you will be performing web scraping to collect Falcon 9 historical launch records from a Wikipedia page titled as:\n",
        "\n",
        "\n",
        "$$\\color{aquamarine}{\\text{List of Falcon 9 and Falcon Heavy launches.}}$$\n",
        "\n",
        "\n",
        "\n",
        "[https://en.wikipedia.org/wiki/List_of_Falcon\\_9\\_and_Falcon_Heavy_launches](https://en.wikipedia.org/wiki/List_of_Falcon\\_9\\_and_Falcon_Heavy_launches?utm_medium=Exinfluencer&utm_source=Exinfluencer&utm_content=000026UJ&utm_term=10006555&utm_id=NA-SkillsNetwork-Channel-SkillsNetworkCoursesIBMDS0321ENSkillsNetwork26802033-2022-01-01)"
      ],
      "metadata": {
        "id": "tBJLlYV9RB7B"
      }
    },
    {
      "cell_type": "markdown",
      "source": [
        "![](https://cf-courses-data.s3.us.cloud-object-storage.appdomain.cloud/IBM-DS0321EN-SkillsNetwork/labs/module\\_1\\_L2/images/Falcon9\\_rocket_family.svg)\n"
      ],
      "metadata": {
        "id": "epjqSGfVTS_r"
      }
    },
    {
      "cell_type": "markdown",
      "source": [
        "$ \\ $\n",
        "\n",
        "The launch records are stored in a HTML table shown below:\n",
        "\n",
        "$ \\ $\n",
        "\n",
        "![](https://cf-courses-data.s3.us.cloud-object-storage.appdomain.cloud/IBM-DS0321EN-SkillsNetwork/labs/module\\_1\\_L2/images/falcon9-launches-wiki.png)"
      ],
      "metadata": {
        "id": "F3c6pwvnUeGU"
      }
    },
    {
      "cell_type": "markdown",
      "source": [
        "$ \\ $ \n",
        "\n",
        "-----\n",
        "\n",
        "## ***Objectives.***\n",
        "\n",
        "Web scrap (raspado web) `Falcon 9` launch records with BeautifulSoup:\n",
        "\n",
        "*   Extract a Falcon 9 launch records HTML table from Wikipedia\n",
        "\n",
        "*   Parse the table and convert it into a Pandas data frame"
      ],
      "metadata": {
        "id": "ySPGHG49VJte"
      }
    },
    {
      "cell_type": "markdown",
      "source": [
        "$ \\ $ \n",
        "\n",
        "-----\n",
        "\n",
        "\n",
        "## ***Install packages.***\n",
        "\n",
        "$(1)$ First let's import required packages for this lab"
      ],
      "metadata": {
        "id": "ejsxzzoyWc33"
      }
    },
    {
      "cell_type": "code",
      "execution_count": 1,
      "metadata": {
        "colab": {
          "base_uri": "https://localhost:8080/"
        },
        "id": "p5lCbEPXQ5h9",
        "outputId": "fe9e598b-413c-4a10-9756-8ab4723b5353"
      },
      "outputs": [
        {
          "output_type": "stream",
          "name": "stdout",
          "text": [
            "Looking in indexes: https://pypi.org/simple, https://us-python.pkg.dev/colab-wheels/public/simple/\n",
            "Requirement already satisfied: beautifulsoup4 in /usr/local/lib/python3.8/dist-packages (4.6.3)\n",
            "Looking in indexes: https://pypi.org/simple, https://us-python.pkg.dev/colab-wheels/public/simple/\n",
            "Requirement already satisfied: requests in /usr/local/lib/python3.8/dist-packages (2.25.1)\n",
            "Requirement already satisfied: certifi>=2017.4.17 in /usr/local/lib/python3.8/dist-packages (from requests) (2022.12.7)\n",
            "Requirement already satisfied: urllib3<1.27,>=1.21.1 in /usr/local/lib/python3.8/dist-packages (from requests) (1.24.3)\n",
            "Requirement already satisfied: idna<3,>=2.5 in /usr/local/lib/python3.8/dist-packages (from requests) (2.10)\n",
            "Requirement already satisfied: chardet<5,>=3.0.2 in /usr/local/lib/python3.8/dist-packages (from requests) (4.0.0)\n"
          ]
        }
      ],
      "source": [
        "!pip3 install beautifulsoup4\n",
        "!pip3 install requests"
      ]
    },
    {
      "cell_type": "code",
      "source": [
        "import sys\n",
        "import requests\n",
        "from bs4 import BeautifulSoup\n",
        "import re\n",
        "import unicodedata\n",
        "import pandas as pd"
      ],
      "metadata": {
        "id": "QZ_4lb2LWujK"
      },
      "execution_count": 2,
      "outputs": []
    },
    {
      "cell_type": "markdown",
      "source": [
        "$ \\ $\n",
        "\n",
        "$(2)$ We provide some helper functions for you to process web scraped HTML table."
      ],
      "metadata": {
        "id": "TZ2UROrpXed7"
      }
    },
    {
      "cell_type": "code",
      "source": [
        "def date_time(table_cells):\n",
        "    \"\"\"\n",
        "    This function returns the data and time from the HTML  table cell\n",
        "    Input: the  element of a table data cell extracts extra row\n",
        "    \"\"\"\n",
        "    return [data_time.strip() for data_time in list(table_cells.strings)][0:2]\n"
      ],
      "metadata": {
        "id": "VKNnX7PkW9ei"
      },
      "execution_count": 3,
      "outputs": []
    },
    {
      "cell_type": "code",
      "source": [
        "def booster_version(table_cells):\n",
        "    \"\"\"\n",
        "    This function returns the booster version from the HTML  table cell \n",
        "    Input: the  element of a table data cell extracts extra row\n",
        "    \"\"\"\n",
        "    out=''.join([booster_version for i, booster_version in enumerate(table_cells.strings) if i %2 ==0][0:-1])\n",
        "    return out\n"
      ],
      "metadata": {
        "id": "CiUKx7wHYNz1"
      },
      "execution_count": 4,
      "outputs": []
    },
    {
      "cell_type": "code",
      "source": [
        "def landing_status(table_cells):\n",
        "    \"\"\"\n",
        "    This function returns the landing status from the HTML table cell \n",
        "    Input: the  element of a table data cell extracts extra row\n",
        "    \"\"\"\n",
        "    out=[i for i in table_cells.strings][0]\n",
        "    return out\n",
        " "
      ],
      "metadata": {
        "id": "8dMZCfFcYVJe"
      },
      "execution_count": 5,
      "outputs": []
    },
    {
      "cell_type": "code",
      "source": [
        "def get_mass(table_cells):\n",
        "    mass=unicodedata.normalize(\"NFKD\", table_cells.text).strip()\n",
        "    if mass:\n",
        "        mass.find(\"kg\")\n",
        "        new_mass=mass[0:mass.find(\"kg\")+2]\n",
        "    else:\n",
        "        new_mass=0\n",
        "    return new_mass\n"
      ],
      "metadata": {
        "id": "nnG5tPfCYYoc"
      },
      "execution_count": 6,
      "outputs": []
    },
    {
      "cell_type": "code",
      "source": [
        "def extract_column_from_header(row):\n",
        "    \"\"\"\n",
        "    This function returns the landing status from the HTML table cell \n",
        "    Input: the  element of a table data cell extracts extra row\n",
        "    \"\"\"\n",
        "    if (row.br):\n",
        "        row.br.extract()\n",
        "    if row.a:\n",
        "        row.a.extract()\n",
        "    if row.sup:\n",
        "        row.sup.extract()\n",
        "        \n",
        "    colunm_name = ' '.join(row.contents)\n",
        "    \n",
        "    # Filter the digit and empty names\n",
        "    if not(colunm_name.strip().isdigit()):\n",
        "        colunm_name = colunm_name.strip()\n",
        "        return colunm_name   "
      ],
      "metadata": {
        "id": "CxLcXe3mYcc4"
      },
      "execution_count": 7,
      "outputs": []
    },
    {
      "cell_type": "markdown",
      "source": [
        "$ \\ $\n",
        "\n",
        "$(3)$ To keep the lab tasks consistent, you will be asked to scrape (raspar) the data from a snapshot (instantánea) of the \n",
        "\n",
        "$$\\color{aquamarine}{\\text{List of Falcon 9 and Falcon Heavy launches}}$$\n",
        "\n",
        "Wikipage updated on `9th June 2021`."
      ],
      "metadata": {
        "id": "Cuz8GR3CQhY6"
      }
    },
    {
      "cell_type": "code",
      "source": [
        "static_url = \"https://en.wikipedia.org/w/index.php?title=List_of_Falcon_9_and_Falcon_Heavy_launches&oldid=1027686922\""
      ],
      "metadata": {
        "id": "XrqpDjSmQyVy"
      },
      "execution_count": 8,
      "outputs": []
    },
    {
      "cell_type": "markdown",
      "source": [
        "$ \\ $\n",
        "\n",
        "-----\n",
        "\n",
        "\n",
        "## ***TASK 1: Request the Falcon9 Launch Wiki page from its URL.***\n",
        "\n",
        "\n",
        "$(1)$ Let's perform an HTTP GET method to request the Falcon9 Launch HTML page, as an HTTP response.\n"
      ],
      "metadata": {
        "id": "2yHq3YxMTk9K"
      }
    },
    {
      "cell_type": "code",
      "source": [
        "response = requests.get(static_url)"
      ],
      "metadata": {
        "id": "TiILI8mgTpXX"
      },
      "execution_count": 9,
      "outputs": []
    },
    {
      "cell_type": "markdown",
      "source": [
        "$ \\ $\n",
        "\n",
        "$(2)$ Create a `BeautifulSoup` object from the HTML `response`.\n"
      ],
      "metadata": {
        "id": "pFYdYgu4QMIt"
      }
    },
    {
      "cell_type": "code",
      "source": [
        "soup = BeautifulSoup(response.content, 'html.parser') \n",
        "# soup"
      ],
      "metadata": {
        "id": "laUrHG66UO0U"
      },
      "execution_count": 10,
      "outputs": []
    },
    {
      "cell_type": "markdown",
      "source": [
        "$ \\ $\n",
        "\n",
        "$(3)$ Print the page title to verify if the `BeautifulSoup` object was created properly.\n"
      ],
      "metadata": {
        "id": "C496O-plSama"
      }
    },
    {
      "cell_type": "code",
      "source": [
        "soup.title"
      ],
      "metadata": {
        "colab": {
          "base_uri": "https://localhost:8080/"
        },
        "id": "4R77YODJmJOF",
        "outputId": "8bd81267-cc18-4619-d7e7-309be30ee46a"
      },
      "execution_count": 11,
      "outputs": [
        {
          "output_type": "execute_result",
          "data": {
            "text/plain": [
              "<title>List of Falcon 9 and Falcon Heavy launches - Wikipedia</title>"
            ]
          },
          "metadata": {},
          "execution_count": 11
        }
      ]
    },
    {
      "cell_type": "markdown",
      "source": [
        "$ \\ $\n",
        "\n",
        "----\n",
        "\n",
        "## ***TASK 2: Extract all column/variable names from the HTML table header.***\n",
        "\n",
        "\n"
      ],
      "metadata": {
        "id": "-H8IMPDIUYgS"
      }
    },
    {
      "cell_type": "markdown",
      "source": [
        "$(1)$ Next, we want to collect all relevant column names from the HTML table header. Let's try to find all tables on the wiki page first. \n",
        "\n"
      ],
      "metadata": {
        "id": "OlDCp2htVBXY"
      }
    },
    {
      "cell_type": "code",
      "source": [
        "html_tables = soup.find_all(\"table\")\n",
        "#html_tables"
      ],
      "metadata": {
        "id": "CNYUAsGlUS2L"
      },
      "execution_count": 12,
      "outputs": []
    },
    {
      "cell_type": "markdown",
      "source": [
        "$ \\ $ \n",
        "\n",
        "$(2)$ Starting from the third table is our target table contains the actual launch records."
      ],
      "metadata": {
        "id": "p6TVRVqiXNbO"
      }
    },
    {
      "cell_type": "code",
      "source": [
        "# Let's print the third table and check its content\n",
        "first_launch_table = html_tables[2]\n",
        "print(first_launch_table)"
      ],
      "metadata": {
        "id": "2saR7aSCV9Zs"
      },
      "execution_count": null,
      "outputs": []
    },
    {
      "cell_type": "markdown",
      "source": [
        "$ \\ $ \n",
        "\n",
        "$(3)$ You should able to see the columns names embedded in the table header elements `<th>` as follows:\n"
      ],
      "metadata": {
        "id": "n5lWgNJtXy9p"
      }
    },
    {
      "cell_type": "markdown",
      "source": [
        "```\n",
        "<tr>\n",
        "<th scope=\"col\">Flight No.\n",
        "</th>\n",
        "<th scope=\"col\">Date and<br/>time (<a href=\"/wiki/Coordinated_Universal_Time\" title=\"Coordinated Universal Time\">UTC</a>)\n",
        "</th>\n",
        "<th scope=\"col\"><a href=\"/wiki/List_of_Falcon_9_first-stage_boosters\" title=\"List of Falcon 9 first-stage boosters\">Version,<br/>Booster</a> <sup class=\"reference\" id=\"cite_ref-booster_11-0\"><a href=\"#cite_note-booster-11\">[b]</a></sup>\n",
        "</th>\n",
        "<th scope=\"col\">Launch site\n",
        "</th>\n",
        "<th scope=\"col\">Payload<sup class=\"reference\" id=\"cite_ref-Dragon_12-0\"><a href=\"#cite_note-Dragon-12\">[c]</a></sup>\n",
        "</th>\n",
        "<th scope=\"col\">Payload mass\n",
        "</th>\n",
        "<th scope=\"col\">Orbit\n",
        "</th>\n",
        "<th scope=\"col\">Customer\n",
        "</th>\n",
        "<th scope=\"col\">Launch<br/>outcome\n",
        "</th>\n",
        "<th scope=\"col\"><a href=\"/wiki/Falcon_9_first-stage_landing_tests\" title=\"Falcon 9 first-stage landing tests\">Booster<br/>landing</a>\n",
        "</th></tr>\n",
        "```\n"
      ],
      "metadata": {
        "id": "ux_gvzL0bpPJ"
      }
    },
    {
      "cell_type": "markdown",
      "source": [
        "$ \\ $\n",
        "\n",
        "$(4)$ Next, we just need to iterate through the `<th>` elements and apply the provided `extract_column_from_header()` to extract column name one by one.\n"
      ],
      "metadata": {
        "id": "z-C0q73TceKw"
      }
    },
    {
      "cell_type": "code",
      "source": [
        "column_names = []\n",
        "resultado = first_launch_table.find_all('th')\n",
        "\n",
        "# Iterate each th element and apply the provided extract_column_from_header() to get a column name\n",
        "for x in resultado:\n",
        "    # Append the Non-empty column name (`if name is not None and len(name) > 0`) into a list called column_names\n",
        "    name = extract_column_from_header(x)\n",
        "    if (name != None and len(name) > 0):\n",
        "        column_names.append(name)\n"
      ],
      "metadata": {
        "id": "ZL2Br8C9X711"
      },
      "execution_count": 14,
      "outputs": []
    },
    {
      "cell_type": "code",
      "source": [
        "column_names"
      ],
      "metadata": {
        "colab": {
          "base_uri": "https://localhost:8080/"
        },
        "id": "9cp1Wkw8HVbA",
        "outputId": "d846f22a-3907-4411-efd3-3b15be23a853"
      },
      "execution_count": 15,
      "outputs": [
        {
          "output_type": "execute_result",
          "data": {
            "text/plain": [
              "['Flight No.',\n",
              " 'Date and time ( )',\n",
              " 'Launch site',\n",
              " 'Payload',\n",
              " 'Payload mass',\n",
              " 'Orbit',\n",
              " 'Customer',\n",
              " 'Launch outcome']"
            ]
          },
          "metadata": {},
          "execution_count": 15
        }
      ]
    },
    {
      "cell_type": "markdown",
      "source": [
        "$ \\ $\n",
        "\n",
        "-----\n",
        "\n",
        "##***TASK 3: Create a data frame by parsing the launch HTML tables.***\n",
        "\n",
        "$(1)$ We will create an empty dictionary with keys from the extracted column names in the previous task. Later, this dictionary will be converted into a Pandas dataframe"
      ],
      "metadata": {
        "id": "NLQy5OO1J0v8"
      }
    },
    {
      "cell_type": "code",
      "source": [
        "launch_dict = dict.fromkeys(column_names)\n",
        "launch_dict"
      ],
      "metadata": {
        "colab": {
          "base_uri": "https://localhost:8080/"
        },
        "id": "sXuCrSqMKXJ5",
        "outputId": "f45b5e22-b7d8-4802-9051-1bc5a8f61638"
      },
      "execution_count": 16,
      "outputs": [
        {
          "output_type": "execute_result",
          "data": {
            "text/plain": [
              "{'Flight No.': None,\n",
              " 'Date and time ( )': None,\n",
              " 'Launch site': None,\n",
              " 'Payload': None,\n",
              " 'Payload mass': None,\n",
              " 'Orbit': None,\n",
              " 'Customer': None,\n",
              " 'Launch outcome': None}"
            ]
          },
          "metadata": {},
          "execution_count": 16
        }
      ]
    },
    {
      "cell_type": "code",
      "source": [
        "# Remove an irrelvant column\n",
        "del launch_dict['Date and time ( )']"
      ],
      "metadata": {
        "id": "djB2PeWXK0lF"
      },
      "execution_count": 17,
      "outputs": []
    },
    {
      "cell_type": "code",
      "source": [
        "# Let's initial the launch_dict with each value to be an empty list\n",
        "launch_dict['Flight No.'] = []\n",
        "launch_dict['Launch site'] = []\n",
        "launch_dict['Payload'] = []\n",
        "launch_dict['Payload mass'] = []\n",
        "launch_dict['Orbit'] = []\n",
        "launch_dict['Customer'] = []\n",
        "launch_dict['Launch outcome'] = []\n",
        "\n",
        "\n",
        "# Added some new columns\n",
        "launch_dict['Version Booster']=[]\n",
        "launch_dict['Booster landing']=[]\n",
        "launch_dict['Date']=[]\n",
        "launch_dict['Time']=[]"
      ],
      "metadata": {
        "id": "XamNPXTeJ5F_"
      },
      "execution_count": 18,
      "outputs": []
    },
    {
      "cell_type": "markdown",
      "source": [
        "$ \\ $\n",
        "\n",
        "$(2)$ Next, we just need to fill up the launch_dict with launch records extracted from table rows.\n",
        "\n",
        "* Usually, HTML tables in Wiki pages are likely to contain unexpected annotations and other types of noises, such as: \n",
        "\n",
        ">> Reference links `B0004.1[8]`\n",
        "\n",
        ">> Missing values `N/A [e]`\n",
        "\n",
        ">> Inconsistent formatting\n",
        "\n",
        ">> Etc.\n",
        "\n",
        "* To simplify the parsing process, we have provided an incomplete code snippet (retazo) below to help you to fill up the launch_dict. Please complete the following code snippet with TODOs or you can choose to write your own logic to parse all launch tables:"
      ],
      "metadata": {
        "id": "K6cGd3GkMmFK"
      }
    },
    {
      "cell_type": "code",
      "source": [
        "extracted_row = 0\n",
        "\n",
        "#Extract each table \n",
        "for table_number,table in enumerate(soup.find_all('table',\"wikitable plainrowheaders collapsible\")):\n",
        "   # get table row \n",
        "    for rows in table.find_all(\"tr\"):\n",
        "\n",
        "        #check to see if first table heading is as number corresponding to launch a number \n",
        "        if rows.th:\n",
        "            if rows.th.string:\n",
        "                flight_number=rows.th.string.strip()\n",
        "                flag=flight_number.isdigit()\n",
        "        else:\n",
        "            flag=False\n",
        "\n",
        "        #get table element \n",
        "        row = rows.find_all('td')\n",
        "\n",
        "        #if it is number save cells in a dictonary \n",
        "        if flag:\n",
        "            extracted_row += 1                \n",
        "\n",
        "            # TODO: Append the flight_number into launch_dict with key `Flight No.`\n",
        "            launch_dict[\"Flight No.\"].append(flight_number) \n",
        "            # Flight Number value (Valor del número de vuelo)\n",
        "            datatimelist = date_time(row[0])\n",
        "            \n",
        "            # Date value\n",
        "            date = datatimelist[0].strip(',')\n",
        "            # TODO: Append the date into launch_dict with key `Date`\n",
        "            launch_dict[\"Date\"].append(date)\n",
        "            \n",
        "            \n",
        "            # Time value            \n",
        "            time = datatimelist[1]\n",
        "            # TODO: Append the time into launch_dict with key `Time`\n",
        "            launch_dict[\"Time\"].append(time)\n",
        "           \n",
        "              \n",
        "            # Booster version\n",
        "            bv = booster_version(row[1])\n",
        "            # TODO: Append the bv into launch_dict with key `Version Booster`\n",
        "            launch_dict[\"Version Booster\"].append(bv)\n",
        "\n",
        "\n",
        "            if not(bv):\n",
        "                bv=row[1].a.string\n",
        "\n",
        "\n",
        "            # Launch Site\n",
        "            launch_site = row[2].a.string\n",
        "            # TODO: Append the bv into launch_dict with key `Launch site`\n",
        "            launch_dict[\"Launch site\"].append(bv)\n",
        "\n",
        "            \n",
        "            # Payload\n",
        "            payload = row[3].a.string            \n",
        "            # TODO: Append the payload into launch_dict with key `Payload`\n",
        "            launch_dict[\"Payload\"].append(payload)\n",
        "\n",
        "            \n",
        "            # Payload Mass            \n",
        "            payload_mass = get_mass(row[4])\n",
        "            # TODO: Append the payload_mass into launch_dict with key `Payload mass`\n",
        "            launch_dict[\"Payload mass\"].append(payload_mass)\n",
        "\n",
        "            \n",
        "            # Orbit            \n",
        "            orbit = row[5].a.string\n",
        "            # TODO: Append the orbit into launch_dict with key `Orbit`\n",
        "            launch_dict[\"Orbit\"].append(orbit)\n",
        "\n",
        "            \n",
        "            # Customer            \n",
        "            customer = row[6].text.strip()\n",
        "            # TODO: Append the customer into launch_dict with key `Customer`\n",
        "            launch_dict[\"Customer\"].append(customer)\n",
        "\n",
        "            \n",
        "            # Launch outcome            \n",
        "            launch_outcome = list(row[7].strings)[0]\n",
        "            # TODO: Append the launch_outcome into launch_dict with key `Launch outcome`\n",
        "            launch_dict[\"Launch outcome\"].append(launch_outcome)\n",
        "\n",
        "            \n",
        "            # Booster landing            \n",
        "            booster_landing = landing_status(row[8])\n",
        "            # TODO: Append the launch_outcome into launch_dict with key `Booster landing`\n",
        "            launch_dict[\"Booster landing\"].append(booster_landing)\n",
        "                      "
      ],
      "metadata": {
        "id": "Lz6QxqFnMmf7"
      },
      "execution_count": 19,
      "outputs": []
    },
    {
      "cell_type": "markdown",
      "source": [
        "$ \\ $\n",
        "\n",
        "$(3)$ After you have fill in the parsed launch record values into launch_dict, you can create a dataframe from it."
      ],
      "metadata": {
        "id": "kCEdazZmdWZ1"
      }
    },
    {
      "cell_type": "code",
      "source": [
        "df=pd.DataFrame(launch_dict)\n",
        "df.head()"
      ],
      "metadata": {
        "colab": {
          "base_uri": "https://localhost:8080/",
          "height": 354
        },
        "id": "LBFTeSQwdYqO",
        "outputId": "a3cd74a7-71a1-4528-cea4-42628885c194"
      },
      "execution_count": 20,
      "outputs": [
        {
          "output_type": "execute_result",
          "data": {
            "text/plain": [
              "  Flight No.     Launch site                               Payload  \\\n",
              "0          1  F9 v1.0B0003.1  Dragon Spacecraft Qualification Unit   \n",
              "1          2  F9 v1.0B0004.1                                Dragon   \n",
              "2          3  F9 v1.0B0005.1                                Dragon   \n",
              "3          4  F9 v1.0B0006.1                          SpaceX CRS-1   \n",
              "4          5  F9 v1.0B0007.1                          SpaceX CRS-2   \n",
              "\n",
              "  Payload mass Orbit                                           Customer  \\\n",
              "0            0   LEO                                             SpaceX   \n",
              "1            0   LEO  .mw-parser-output .plainlist ol,.mw-parser-out...   \n",
              "2       525 kg   LEO                                        NASA (COTS)   \n",
              "3     4,700 kg   LEO                                         NASA (CRS)   \n",
              "4     4,877 kg   LEO                                         NASA (CRS)   \n",
              "\n",
              "  Launch outcome Version Booster Booster landing             Date   Time  \n",
              "0      Success\\n  F9 v1.0B0003.1         Failure      4 June 2010  18:45  \n",
              "1        Success  F9 v1.0B0004.1         Failure  8 December 2010  15:43  \n",
              "2        Success  F9 v1.0B0005.1    No attempt\\n      22 May 2012  07:44  \n",
              "3      Success\\n  F9 v1.0B0006.1      No attempt   8 October 2012  00:35  \n",
              "4      Success\\n  F9 v1.0B0007.1    No attempt\\n     1 March 2013  15:10  "
            ],
            "text/html": [
              "\n",
              "  <div id=\"df-72172f2e-bbed-4ca4-ad3f-34ee746f217e\">\n",
              "    <div class=\"colab-df-container\">\n",
              "      <div>\n",
              "<style scoped>\n",
              "    .dataframe tbody tr th:only-of-type {\n",
              "        vertical-align: middle;\n",
              "    }\n",
              "\n",
              "    .dataframe tbody tr th {\n",
              "        vertical-align: top;\n",
              "    }\n",
              "\n",
              "    .dataframe thead th {\n",
              "        text-align: right;\n",
              "    }\n",
              "</style>\n",
              "<table border=\"1\" class=\"dataframe\">\n",
              "  <thead>\n",
              "    <tr style=\"text-align: right;\">\n",
              "      <th></th>\n",
              "      <th>Flight No.</th>\n",
              "      <th>Launch site</th>\n",
              "      <th>Payload</th>\n",
              "      <th>Payload mass</th>\n",
              "      <th>Orbit</th>\n",
              "      <th>Customer</th>\n",
              "      <th>Launch outcome</th>\n",
              "      <th>Version Booster</th>\n",
              "      <th>Booster landing</th>\n",
              "      <th>Date</th>\n",
              "      <th>Time</th>\n",
              "    </tr>\n",
              "  </thead>\n",
              "  <tbody>\n",
              "    <tr>\n",
              "      <th>0</th>\n",
              "      <td>1</td>\n",
              "      <td>F9 v1.0B0003.1</td>\n",
              "      <td>Dragon Spacecraft Qualification Unit</td>\n",
              "      <td>0</td>\n",
              "      <td>LEO</td>\n",
              "      <td>SpaceX</td>\n",
              "      <td>Success\\n</td>\n",
              "      <td>F9 v1.0B0003.1</td>\n",
              "      <td>Failure</td>\n",
              "      <td>4 June 2010</td>\n",
              "      <td>18:45</td>\n",
              "    </tr>\n",
              "    <tr>\n",
              "      <th>1</th>\n",
              "      <td>2</td>\n",
              "      <td>F9 v1.0B0004.1</td>\n",
              "      <td>Dragon</td>\n",
              "      <td>0</td>\n",
              "      <td>LEO</td>\n",
              "      <td>.mw-parser-output .plainlist ol,.mw-parser-out...</td>\n",
              "      <td>Success</td>\n",
              "      <td>F9 v1.0B0004.1</td>\n",
              "      <td>Failure</td>\n",
              "      <td>8 December 2010</td>\n",
              "      <td>15:43</td>\n",
              "    </tr>\n",
              "    <tr>\n",
              "      <th>2</th>\n",
              "      <td>3</td>\n",
              "      <td>F9 v1.0B0005.1</td>\n",
              "      <td>Dragon</td>\n",
              "      <td>525 kg</td>\n",
              "      <td>LEO</td>\n",
              "      <td>NASA (COTS)</td>\n",
              "      <td>Success</td>\n",
              "      <td>F9 v1.0B0005.1</td>\n",
              "      <td>No attempt\\n</td>\n",
              "      <td>22 May 2012</td>\n",
              "      <td>07:44</td>\n",
              "    </tr>\n",
              "    <tr>\n",
              "      <th>3</th>\n",
              "      <td>4</td>\n",
              "      <td>F9 v1.0B0006.1</td>\n",
              "      <td>SpaceX CRS-1</td>\n",
              "      <td>4,700 kg</td>\n",
              "      <td>LEO</td>\n",
              "      <td>NASA (CRS)</td>\n",
              "      <td>Success\\n</td>\n",
              "      <td>F9 v1.0B0006.1</td>\n",
              "      <td>No attempt</td>\n",
              "      <td>8 October 2012</td>\n",
              "      <td>00:35</td>\n",
              "    </tr>\n",
              "    <tr>\n",
              "      <th>4</th>\n",
              "      <td>5</td>\n",
              "      <td>F9 v1.0B0007.1</td>\n",
              "      <td>SpaceX CRS-2</td>\n",
              "      <td>4,877 kg</td>\n",
              "      <td>LEO</td>\n",
              "      <td>NASA (CRS)</td>\n",
              "      <td>Success\\n</td>\n",
              "      <td>F9 v1.0B0007.1</td>\n",
              "      <td>No attempt\\n</td>\n",
              "      <td>1 March 2013</td>\n",
              "      <td>15:10</td>\n",
              "    </tr>\n",
              "  </tbody>\n",
              "</table>\n",
              "</div>\n",
              "      <button class=\"colab-df-convert\" onclick=\"convertToInteractive('df-72172f2e-bbed-4ca4-ad3f-34ee746f217e')\"\n",
              "              title=\"Convert this dataframe to an interactive table.\"\n",
              "              style=\"display:none;\">\n",
              "        \n",
              "  <svg xmlns=\"http://www.w3.org/2000/svg\" height=\"24px\"viewBox=\"0 0 24 24\"\n",
              "       width=\"24px\">\n",
              "    <path d=\"M0 0h24v24H0V0z\" fill=\"none\"/>\n",
              "    <path d=\"M18.56 5.44l.94 2.06.94-2.06 2.06-.94-2.06-.94-.94-2.06-.94 2.06-2.06.94zm-11 1L8.5 8.5l.94-2.06 2.06-.94-2.06-.94L8.5 2.5l-.94 2.06-2.06.94zm10 10l.94 2.06.94-2.06 2.06-.94-2.06-.94-.94-2.06-.94 2.06-2.06.94z\"/><path d=\"M17.41 7.96l-1.37-1.37c-.4-.4-.92-.59-1.43-.59-.52 0-1.04.2-1.43.59L10.3 9.45l-7.72 7.72c-.78.78-.78 2.05 0 2.83L4 21.41c.39.39.9.59 1.41.59.51 0 1.02-.2 1.41-.59l7.78-7.78 2.81-2.81c.8-.78.8-2.07 0-2.86zM5.41 20L4 18.59l7.72-7.72 1.47 1.35L5.41 20z\"/>\n",
              "  </svg>\n",
              "      </button>\n",
              "      \n",
              "  <style>\n",
              "    .colab-df-container {\n",
              "      display:flex;\n",
              "      flex-wrap:wrap;\n",
              "      gap: 12px;\n",
              "    }\n",
              "\n",
              "    .colab-df-convert {\n",
              "      background-color: #E8F0FE;\n",
              "      border: none;\n",
              "      border-radius: 50%;\n",
              "      cursor: pointer;\n",
              "      display: none;\n",
              "      fill: #1967D2;\n",
              "      height: 32px;\n",
              "      padding: 0 0 0 0;\n",
              "      width: 32px;\n",
              "    }\n",
              "\n",
              "    .colab-df-convert:hover {\n",
              "      background-color: #E2EBFA;\n",
              "      box-shadow: 0px 1px 2px rgba(60, 64, 67, 0.3), 0px 1px 3px 1px rgba(60, 64, 67, 0.15);\n",
              "      fill: #174EA6;\n",
              "    }\n",
              "\n",
              "    [theme=dark] .colab-df-convert {\n",
              "      background-color: #3B4455;\n",
              "      fill: #D2E3FC;\n",
              "    }\n",
              "\n",
              "    [theme=dark] .colab-df-convert:hover {\n",
              "      background-color: #434B5C;\n",
              "      box-shadow: 0px 1px 3px 1px rgba(0, 0, 0, 0.15);\n",
              "      filter: drop-shadow(0px 1px 2px rgba(0, 0, 0, 0.3));\n",
              "      fill: #FFFFFF;\n",
              "    }\n",
              "  </style>\n",
              "\n",
              "      <script>\n",
              "        const buttonEl =\n",
              "          document.querySelector('#df-72172f2e-bbed-4ca4-ad3f-34ee746f217e button.colab-df-convert');\n",
              "        buttonEl.style.display =\n",
              "          google.colab.kernel.accessAllowed ? 'block' : 'none';\n",
              "\n",
              "        async function convertToInteractive(key) {\n",
              "          const element = document.querySelector('#df-72172f2e-bbed-4ca4-ad3f-34ee746f217e');\n",
              "          const dataTable =\n",
              "            await google.colab.kernel.invokeFunction('convertToInteractive',\n",
              "                                                     [key], {});\n",
              "          if (!dataTable) return;\n",
              "\n",
              "          const docLinkHtml = 'Like what you see? Visit the ' +\n",
              "            '<a target=\"_blank\" href=https://colab.research.google.com/notebooks/data_table.ipynb>data table notebook</a>'\n",
              "            + ' to learn more about interactive tables.';\n",
              "          element.innerHTML = '';\n",
              "          dataTable['output_type'] = 'display_data';\n",
              "          await google.colab.output.renderOutput(dataTable, element);\n",
              "          const docLink = document.createElement('div');\n",
              "          docLink.innerHTML = docLinkHtml;\n",
              "          element.appendChild(docLink);\n",
              "        }\n",
              "      </script>\n",
              "    </div>\n",
              "  </div>\n",
              "  "
            ]
          },
          "metadata": {},
          "execution_count": 20
        }
      ]
    },
    {
      "cell_type": "markdown",
      "source": [
        "$ \\ $\n",
        "\n",
        "\n",
        "$(4)$ We can now export it to a CSV for the next section, but to make the answers consistent and in case you have difficulties finishing this lab.\n"
      ],
      "metadata": {
        "id": "tRxWNh7keBUy"
      }
    },
    {
      "cell_type": "code",
      "source": [
        "df.to_csv('spacex_web_scraped.csv', index=False)"
      ],
      "metadata": {
        "id": "xOOJdfN8dbLP"
      },
      "execution_count": 21,
      "outputs": []
    }
  ]
}